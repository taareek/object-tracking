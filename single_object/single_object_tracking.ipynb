{
 "cells": [
  {
   "cell_type": "markdown",
   "id": "70dcc6ed-40ca-4aa0-9dc3-beaa0bd1e6a1",
   "metadata": {},
   "source": [
    "In this notebook, I have implemented single object tracking using OpenCV"
   ]
  },
  {
   "cell_type": "code",
   "execution_count": 1,
   "id": "76b7bc4f-30dd-40df-89dc-b49046e34677",
   "metadata": {},
   "outputs": [],
   "source": [
    "import cv2\n",
    "import numpy as np"
   ]
  },
  {
   "cell_type": "code",
   "execution_count": 3,
   "id": "3ebb58bf-63dd-4408-8297-eadfff9b28ae",
   "metadata": {},
   "outputs": [],
   "source": [
    "# video path\n",
    "video1_path = 'videos/walk.mp4'\n",
    "video2_path = 'videos/walk_cycle.mp4'\n",
    "video3_path = 'videos/walk_dog.mp4'\n",
    "video4_path = \"videos/football.mp4\"\n",
    "video5_path = \"videos/demo.mp4\"\n",
    "video6_path = \"videos/byc.mp4\""
   ]
  },
  {
   "cell_type": "code",
   "execution_count": 17,
   "id": "2890192b-cac4-4da7-8a72-bb4bce386257",
   "metadata": {},
   "outputs": [],
   "source": [
    "video = cv2.VideoCapture(video1_path)\n",
    "height = 400\n",
    "width = 600"
   ]
  },
  {
   "cell_type": "code",
   "execution_count": 7,
   "id": "02705445-6b1a-404e-8e5a-b3c464b58f54",
   "metadata": {},
   "outputs": [],
   "source": [
    "video = cv2.VideoCapture(video3_path)\n",
    "height = 500\n",
    "width = 600\n",
    "bbox = (110, 100, 220, 250)\n",
    "\n",
    "while True:\n",
    "    # get the current frame\n",
    "    check, frame = video.read()\n",
    "    if not check:\n",
    "        print(f\"Failed to grab the frame, please check you video!!\")\n",
    "        break\n",
    "    # resized the frame with expected size \n",
    "    resized_frame = cv2.resize(frame, (width, height))\n",
    "\n",
    "    # drawing the boxes \n",
    "    # Unpack bbox to get x, y, w, h\n",
    "    \n",
    "    x, y, w, h = bbox\n",
    "    cv2.rectangle(resized_frame, (x, y), (x + w, y + h), (0, 255, 0), 2)\n",
    "    \n",
    "    # showing the video\n",
    "    cv2.imshow('video', resized_frame)\n",
    "    \n",
    "    key = cv2.waitKey(1)\n",
    "    # press Esc to break \n",
    "    if key == 27:\n",
    "        break\n",
    "    pass\n",
    "\n",
    "video.release()\n",
    "cv2.destroyAllWindows()"
   ]
  },
  {
   "cell_type": "code",
   "execution_count": 5,
   "id": "6226cba9-80a7-4f01-bdf3-6a4de4e6ff43",
   "metadata": {},
   "outputs": [],
   "source": [
    "(major_ver, minor_ver, subminor_ver) = (cv2.__version__).split('.')"
   ]
  },
  {
   "cell_type": "code",
   "execution_count": 7,
   "id": "95d676cc-87ad-49cb-90bf-244be426454e",
   "metadata": {},
   "outputs": [
    {
     "name": "stdout",
     "output_type": "stream",
     "text": [
      "Major Version: 4\n",
      "Minor Version: 11\n",
      "Subminor version: 0\n"
     ]
    }
   ],
   "source": [
    "print(f\"Major Version: {major_ver}\")\n",
    "print(f\"Minor Version: {minor_ver}\")\n",
    "print(f\"Subminor version: {subminor_ver}\")"
   ]
  },
  {
   "cell_type": "code",
   "execution_count": 15,
   "id": "836cbee9-af5a-4f56-8789-eb179488bde0",
   "metadata": {},
   "outputs": [
    {
     "name": "stdout",
     "output_type": "stream",
     "text": [
      "Failed to grab the frame, ending video.\n"
     ]
    }
   ],
   "source": [
    "import cv2\n",
    "\n",
    "\n",
    "height = 400\n",
    "width = 600\n",
    "\n",
    "# Set up tracker\n",
    "tracker_types = ['BOOSTING', 'MIL', 'KCF', 'TLD', 'MEDIANFLOW', 'GOTURN', 'MOSSE', 'CSRT']\n",
    "tracker_type = tracker_types[1]  # You can change the tracker type here\n",
    "\n",
    "# Read the video\n",
    "video = cv2.VideoCapture(video1_path)\n",
    "check, frame = video.read()\n",
    "resized_frame = cv2.resize(frame, (width, height))\n",
    "\n",
    "if not check:\n",
    "    print(f\"Failed to grab the frame, please check your video!\")\n",
    "    video.release()\n",
    "    cv2.destroyAllWindows()\n",
    "    exit()\n",
    "\n",
    "# Select ROI manually\n",
    "bbox = cv2.selectROI(\"Select ROI\", resized_frame, fromCenter=False, showCrosshair=True)\n",
    "cv2.destroyWindow(\"Select ROI\")\n",
    "\n",
    "# Check if bounding box is valid\n",
    "if bbox == (0, 0, 0, 0):\n",
    "    print(\"No ROI selected, exiting.\")\n",
    "    video.release()\n",
    "    cv2.destroyAllWindows()\n",
    "    exit()\n",
    "\n",
    "# Initialize the tracker based on the selected type\n",
    "if tracker_type == 'BOOSTING':\n",
    "    tracker = cv2.TrackerBoosting_create()\n",
    "elif tracker_type == 'MIL':\n",
    "    tracker = cv2.TrackerMIL_create()\n",
    "elif tracker_type == 'KCF':\n",
    "    tracker = cv2.TrackerKCF_create()\n",
    "elif tracker_type == 'TLD':\n",
    "    tracker = cv2.TrackerTLD_create()\n",
    "elif tracker_type == 'MEDIANFLOW':\n",
    "    tracker = cv2.TrackerMedianFlow_create()\n",
    "elif tracker_type == 'GOTURN':\n",
    "    tracker = cv2.TrackerGOTURN_create()\n",
    "elif tracker_type == 'MOSSE':\n",
    "    tracker = cv2.TrackerMOSSE_create()\n",
    "elif tracker_type == 'CSRT':\n",
    "    tracker = cv2.TrackerCSRT_create()\n",
    "\n",
    "# Initialize tracker with first frame and selected bounding box\n",
    "tracker.init(resized_frame, bbox)\n",
    "\n",
    "# To keep track of the object's movement (previous points)\n",
    "points = []\n",
    "\n",
    "# Loop through the video frames\n",
    "while True:\n",
    "    # Read a new frame\n",
    "    check, frame = video.read()\n",
    "    if not check:\n",
    "        print(\"Failed to grab the frame, ending video.\")\n",
    "        break\n",
    "\n",
    "    # Resize the frame\n",
    "    resized_frame = cv2.resize(frame, (width, height))\n",
    "\n",
    "    # Update tracker\n",
    "    ok, bbox = tracker.update(resized_frame)\n",
    "\n",
    "    # If tracking is successful, draw the bounding box\n",
    "    if ok:\n",
    "        p1 = (int(bbox[0]), int(bbox[1]))  # top left corner\n",
    "        p2 = (int(bbox[0] + bbox[2]), int(bbox[1] + bbox[3]))  # bottom right corner\n",
    "        # cv2.rectangle(resized_frame, p1, p2, (0, 255, 0), 2)  # draw the bounding box in green\n",
    "\n",
    "        # Calculate the center of the bounding box\n",
    "        center = (int(bbox[0] + bbox[2] / 2), int(bbox[1] + bbox[3] / 2))\n",
    "        \n",
    "        # Draw a point at the center of the bounding box\n",
    "        cv2.circle(resized_frame, center, 5, (0, 0, 255), -1)  # red point\n",
    "        \n",
    "        # Store the center point for tracking the movement\n",
    "        points.append(center)\n",
    "        \n",
    "        # Draw lines connecting the previous points to visualize movement\n",
    "        if len(points) > 1:\n",
    "            for i in range(1, len(points)):\n",
    "                cv2.line(resized_frame, points[i-1], points[i], (255, 0, 0), 2)  # blue line\n",
    "    else:\n",
    "        cv2.putText(resized_frame, \"Tracking failure\", (100, 80), cv2.FONT_HERSHEY_SIMPLEX, 0.75, (0, 0, 255), 2)\n",
    "\n",
    "    # Show the frame with bounding box\n",
    "    cv2.imshow('Tracking', resized_frame)\n",
    "\n",
    "    # Exit if 'Esc' key is pressed\n",
    "    key = cv2.waitKey(1)\n",
    "    if key == 27:\n",
    "        break\n",
    "\n",
    "# Release the video capture object and close all windows\n",
    "video.release()\n",
    "cv2.destroyAllWindows()\n"
   ]
  },
  {
   "cell_type": "code",
   "execution_count": null,
   "id": "339f6682-d31c-4acb-8c1e-d97d48cbc1e6",
   "metadata": {},
   "outputs": [],
   "source": []
  },
  {
   "cell_type": "code",
   "execution_count": null,
   "id": "cfb997ae-ccd8-40f5-b2c6-d59f41bb1605",
   "metadata": {},
   "outputs": [],
   "source": []
  }
 ],
 "metadata": {
  "kernelspec": {
   "display_name": "Python 3 (ipykernel)",
   "language": "python",
   "name": "python3"
  },
  "language_info": {
   "codemirror_mode": {
    "name": "ipython",
    "version": 3
   },
   "file_extension": ".py",
   "mimetype": "text/x-python",
   "name": "python",
   "nbconvert_exporter": "python",
   "pygments_lexer": "ipython3",
   "version": "3.12.7"
  }
 },
 "nbformat": 4,
 "nbformat_minor": 5
}
